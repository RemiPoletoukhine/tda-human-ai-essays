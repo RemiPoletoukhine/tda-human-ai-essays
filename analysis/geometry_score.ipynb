{
 "cells": [
  {
   "cell_type": "markdown",
   "metadata": {},
   "source": [
    "#### Geometry Score (Khrulkov and Oseledets, 2018)\n",
    "\n",
    "This notebook requires the access to the [original repository](https://github.com/KhrulkovV/geometry-score), i.e., it has to be cloned and the notebook should be located in the ``geometry-score`` folder"
   ]
  },
  {
   "cell_type": "code",
   "execution_count": null,
   "metadata": {},
   "outputs": [],
   "source": [
    "import numpy as np\n",
    "import pandas as pd\n",
    "import seaborn as sns\n",
    "import gs\n",
    "import matplotlib.pyplot as plt\n",
    "\n",
    "%matplotlib inline"
   ]
  },
  {
   "cell_type": "code",
   "execution_count": null,
   "metadata": {},
   "outputs": [],
   "source": [
    "# TODO: provide the path to the embeddings and the dataset\n",
    "sentence_embeddings = np.load(\"../tda-human-ai-essays/dataset/sentence_embeddings.npy\")\n",
    "essay_dataset = pd.read_csv(\"../tda-human-ai-essays/dataset/essay_dataset.csv\")\n",
    "\n",
    "# get the indices of the sentences that are written by the human author\n",
    "human_indices = essay_dataset[essay_dataset[\"author\"] == \"human\"].index.to_list()\n",
    "gpt_indices = essay_dataset[essay_dataset[\"author\"] == \"chatgpt\"].index.to_list()\n",
    "\n",
    "# get the human and gpt embeddings\n",
    "human_embeddings = sentence_embeddings[human_indices]\n",
    "gpt_embeddings = sentence_embeddings[gpt_indices]\n",
    "\n",
    "# compute the RLTs on the whole sets\n",
    "rlts_human = gs.rlts(human_embeddings, gamma=1.0 / 128, i_max=200, n=2582)\n",
    "rlts_gpt = gs.rlts(gpt_embeddings, gamma=1.0 / 128, i_max=200, n=1842)\n",
    "\n",
    "# compute the MRLTs\n",
    "mrlt_human = np.mean(rlts_human, axis=0)\n",
    "mrlt_gpt = np.mean(rlts_gpt, axis=0)"
   ]
  },
  {
   "cell_type": "code",
   "execution_count": null,
   "metadata": {},
   "outputs": [],
   "source": [
    "# Plot the MRLTs\n",
    "\n",
    "# Set the font size\n",
    "plt.rcParams.update({\"font.size\": 15})\n",
    "palette = sns.diverging_palette(145, 300, n=2)\n",
    "plt.figure(figsize=(15, 10), dpi=1300)\n",
    "gs.fancy_plot(mrlt_human, label=\"MRLT: Human\", color=palette[0])\n",
    "gs.fancy_plot(mrlt_gpt, label=\"MRLT: GPT\", color=palette[1])\n",
    "plt.xlim([0, 175])\n",
    "plt.xlabel(r\"Number of $1$-dimensional holes $i$\")\n",
    "plt.legend()\n",
    "plt.savefig(\"mrlt_human_gpt.pdf\", bbox_inches=\"tight\", dpi=1300)\n",
    "plt.show()"
   ]
  },
  {
   "cell_type": "code",
   "execution_count": null,
   "metadata": {},
   "outputs": [],
   "source": [
    "# Compute the Geometry Score\n",
    "print(f\"Human vs. GPT: {1e3 * gs.geom_score(rlts_human, rlts_gpt)}\")"
   ]
  },
  {
   "cell_type": "code",
   "execution_count": null,
   "metadata": {},
   "outputs": [],
   "source": [
    "# How, let's take independent samples of size 100 from the same distribution and compute the score\n",
    "\n",
    "rlts_human_1 = gs.rlts(human_embeddings, gamma=1.0 / 128, i_max=200, n=100)\n",
    "rlts_human_2 = gs.rlts(human_embeddings, gamma=1.0 / 128, i_max=200, n=100)\n",
    "rlts_gpt_1 = gs.rlts(gpt_embeddings, gamma=1.0 / 128, i_max=200, n=100)\n",
    "rlts_gpt_2 = gs.rlts(gpt_embeddings, gamma=1.0 / 128, i_max=200, n=100)\n",
    "\n",
    "mrlt_human_1 = np.mean(rlts_human_1, axis=0)\n",
    "mrlt_human_2 = np.mean(rlts_human_2, axis=0)\n",
    "mrlt_gpt_1 = np.mean(rlts_gpt_1, axis=0)\n",
    "mrlt_gpt_2 = np.mean(rlts_gpt_2, axis=0)\n",
    "\n",
    "# Compute score\n",
    "print(\n",
    "    f\"Score for samples within Human: {1e3 * gs.geom_score(rlts_human_1, rlts_human_2)}\"\n",
    ")\n",
    "print(f\"Score for samples within GPT: {1e3 * gs.geom_score(rlts_gpt_1, rlts_gpt_2)}\")"
   ]
  },
  {
   "cell_type": "code",
   "execution_count": null,
   "metadata": {},
   "outputs": [],
   "source": [
    "# Set the font size\n",
    "plt.rcParams.update({\"font.size\": 20})\n",
    "# Set the palette for the last two plots\n",
    "palette = sns.diverging_palette(145, 300, n=4)\n",
    "\n",
    "plt.figure(figsize=(12, 10), dpi=1300)\n",
    "gs.fancy_plot(mrlt_human_1, label=\"MRLT: Human, Sample 1\", color=palette[0])\n",
    "gs.fancy_plot(mrlt_human_2, label=\"MRLT: Human, Sample 2\", color=palette[1])\n",
    "plt.xlim([0, 175])\n",
    "plt.xlabel(r\"Number of $1$-dimensional holes $i$\")\n",
    "plt.legend()\n",
    "plt.savefig(\"mrlt_humans.pdf\", bbox_inches=\"tight\", dpi=1300)\n",
    "plt.show()"
   ]
  },
  {
   "cell_type": "code",
   "execution_count": null,
   "metadata": {},
   "outputs": [],
   "source": [
    "# Set the font size\n",
    "plt.rcParams.update({\"font.size\": 20})\n",
    "plt.figure(figsize=(12, 10), dpi=1300)\n",
    "gs.fancy_plot(mrlt_gpt_1, label=\"MRLT: GPT, Sample 1\", color=palette[2])\n",
    "gs.fancy_plot(mrlt_gpt_2, label=\"MRLT: GPT, Sample 2\", color=palette[3])\n",
    "plt.xlim([0, 175])\n",
    "plt.xlabel(r\"Number of $1$-dimensional holes $i$\")\n",
    "plt.legend()\n",
    "plt.savefig(\"mrlt_gpts.pdf\", bbox_inches=\"tight\", dpi=1300)\n",
    "plt.show()"
   ]
  }
 ],
 "metadata": {
  "kernelspec": {
   "display_name": "helmholtz",
   "language": "python",
   "name": "python3"
  },
  "language_info": {
   "codemirror_mode": {
    "name": "ipython",
    "version": 3
   },
   "file_extension": ".py",
   "mimetype": "text/x-python",
   "name": "python",
   "nbconvert_exporter": "python",
   "pygments_lexer": "ipython3",
   "version": "3.9.20"
  }
 },
 "nbformat": 4,
 "nbformat_minor": 2
}
